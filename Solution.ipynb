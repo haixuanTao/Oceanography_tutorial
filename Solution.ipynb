{
 "cells": [
  {
   "cell_type": "markdown",
   "id": "9f1e97fc-98cb-411e-ba56-b2d50bc956fc",
   "metadata": {},
   "source": [
    "# Oceanography Python Tutorial"
   ]
  },
  {
   "cell_type": "markdown",
   "id": "6d64f192-35d4-44ad-b19f-fdc70a53a0b6",
   "metadata": {},
   "source": [
    "## Exercice 1. Reading Data with Python\n",
    "\n",
    "First exercise is trying to read netcdf file\n",
    "\n",
    "To do it you can check: `read netcdf with python` in google\n",
    "\n",
    "> Hint: Use: https://unidata.github.io/netcdf4-python/#quick-install"
   ]
  },
  {
   "cell_type": "code",
   "execution_count": null,
   "id": "8b5103cc-ded3-40d9-9dd3-bc69b9b0b3cc",
   "metadata": {},
   "outputs": [],
   "source": []
  },
  {
   "cell_type": "markdown",
   "id": "2e0ef041-b07a-4e48-9191-d71081d23516",
   "metadata": {},
   "source": [
    "## Exercice 1bis. Select a data for a date and a depth for \n",
    "\n",
    "Return as a numpy array the data for the variable `so` or `thetao` for a given time_counter and depth.\n",
    "\n",
    "To do that you will need to slice the data.\n",
    "\n",
    "To slice a numpy array, you can use: `array[1, 1, :, :]` for selecting the first index for the first axis, the first index for the second axis, the whole 3rd and 4th axis.\n",
    "    \n",
    "To select data in a masked array, you can use `masked_array.mask_name` to select the `mask_name` from the `masked_array`"
   ]
  },
  {
   "cell_type": "markdown",
   "id": "a059b516-1e91-4931-b934-3004fe1d2a39",
   "metadata": {},
   "source": [
    "## Exercice 2. installing plotting library in Python \n",
    "\n",
    "2nd exercice is to install plotting library in Python for doing visualisation\n",
    "\n",
    "You can search plotting library in python with: `heatmap in python` in google\n",
    "\n",
    "Two very common library is matplotlib and seaborn!"
   ]
  },
  {
   "cell_type": "code",
   "execution_count": null,
   "id": "1de80e18-7be4-44d7-8c5c-ff29ced80acc",
   "metadata": {},
   "outputs": [],
   "source": []
  },
  {
   "cell_type": "markdown",
   "id": "679e75e5-911c-4729-a82a-b4ffc5e2a695",
   "metadata": {},
   "source": [
    "## Exercice 3. Importing Matplotlib and Seaborn\n",
    "\n",
    "3rd exercice is to import the library matplotib and seaborn.\n",
    "\n",
    "You can check the documentation to see how to do it!"
   ]
  },
  {
   "cell_type": "code",
   "execution_count": null,
   "id": "f6bb4b52-1cbf-4233-aa91-7a3031837ec3",
   "metadata": {},
   "outputs": [],
   "source": []
  },
  {
   "cell_type": "markdown",
   "id": "27c8549d-e4dd-4779-a433-e2db784a09a8",
   "metadata": {},
   "source": [
    "## Exercice 4. Plot the data!\n",
    "\n",
    "4th exercice is to use the imported library to plot either `so` or `thetao` variable!\n",
    "\n",
    "You can check the documentation to see how to do it in the documentation of seaborn or google!\n"
   ]
  },
  {
   "cell_type": "code",
   "execution_count": null,
   "id": "d250e9c6-c083-41bf-a386-dbf179f39b4a",
   "metadata": {},
   "outputs": [],
   "source": []
  },
  {
   "cell_type": "markdown",
   "id": "589314b3-cf04-4e81-8ab2-8ce166bebc7d",
   "metadata": {},
   "source": [
    "## Exercice 5. Clean the data to better sea the variation of value!\n",
    "\n",
    "5th exercice is to remove the extreme value that is shrinking the scaling of color!\n",
    "\n",
    "You can google how to remove 0 value in google !\n",
    "\n",
    "> hint: Use https://stackoverflow.com/questions/39941128/dont-show-zero-values-on-2d-heat-map/39941795"
   ]
  },
  {
   "cell_type": "code",
   "execution_count": null,
   "id": "2125fbaa-53de-47b3-acb7-500d9d62dae8",
   "metadata": {},
   "outputs": [],
   "source": []
  },
  {
   "cell_type": "markdown",
   "id": "f34ead4e-d3f7-474f-af12-fefaf13b0f42",
   "metadata": {},
   "source": [
    "## Exercice 6. Calculate the difference between two time counter for thetao\n",
    "\n",
    "This exercice you will be on your own\n",
    "\n",
    "> Hint: Caution of dividing by 0!"
   ]
  },
  {
   "cell_type": "code",
   "execution_count": null,
   "id": "a5f665ed-7bce-49f0-9ed2-19f17b2a96d7",
   "metadata": {},
   "outputs": [],
   "source": []
  },
  {
   "cell_type": "markdown",
   "id": "eb137e52-ae30-4276-982a-b946783105ed",
   "metadata": {},
   "source": [
    "## Exercice 7. Make a loop to plot several `time_counter`\n",
    "\n",
    "> Caution to the minimum and maximum variation of heatmap!\n"
   ]
  },
  {
   "cell_type": "code",
   "execution_count": null,
   "id": "9daaa964-ba33-4dfa-8651-c7e3eb8e74a0",
   "metadata": {},
   "outputs": [],
   "source": []
  },
  {
   "cell_type": "markdown",
   "id": "fe20de7e-af9f-455c-9c1a-378b765cd02c",
   "metadata": {},
   "source": [
    "## Exercice 7. Make a function to clean arrays with zeros and 1e20\n",
    "\n",
    "\n",
    "Create a function that take an array as an input and output an array with np.nan where there is zeroes and 1e20!"
   ]
  },
  {
   "cell_type": "code",
   "execution_count": null,
   "id": "11ab8d45-da8d-4d80-af1d-c33c4ef4cead",
   "metadata": {},
   "outputs": [],
   "source": []
  },
  {
   "cell_type": "markdown",
   "id": "70c44239-e32c-433f-a5e5-0fc75cda15c0",
   "metadata": {},
   "source": [
    "## Exercice 8. Complete the function below to make it onl\n",
    "\n",
    "\n",
    "Create a function that take an array as an input and output an array with np.nan where there is zeroes and 1e20!"
   ]
  },
  {
   "cell_type": "code",
   "execution_count": null,
   "id": "baf5874f-95e3-4726-9280-8511a722a149",
   "metadata": {},
   "outputs": [],
   "source": []
  }
 ],
 "metadata": {
  "kernelspec": {
   "display_name": "valou",
   "language": "python",
   "name": "valou"
  },
  "language_info": {
   "codemirror_mode": {
    "name": "ipython",
    "version": 3
   },
   "file_extension": ".py",
   "mimetype": "text/x-python",
   "name": "python",
   "nbconvert_exporter": "python",
   "pygments_lexer": "ipython3",
   "version": "3.8.5"
  }
 },
 "nbformat": 4,
 "nbformat_minor": 5
}
